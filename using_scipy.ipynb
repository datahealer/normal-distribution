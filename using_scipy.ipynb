{
 "cells": [
  {
   "cell_type": "code",
   "execution_count": 2,
   "metadata": {},
   "outputs": [],
   "source": [
    "import numpy as np\n",
    "import matplotlib.pyplot as plt\n",
    "import seaborn as sns\n",
    "from scipy.stats import norm"
   ]
  },
  {
   "cell_type": "markdown",
   "metadata": {},
   "source": [
    "### Perfume bottles are filled with the average volume of 150cc and the standard deviation of 2cc. What percent of bottles will have a volume greater than 153cc?"
   ]
  },
  {
   "cell_type": "code",
   "execution_count": 3,
   "metadata": {},
   "outputs": [
    {
     "data": {
      "text/plain": [
       "0.06680720126885807"
      ]
     },
     "execution_count": 3,
     "metadata": {},
     "output_type": "execute_result"
    }
   ],
   "source": [
    "# given\n",
    "mean = 150\n",
    "sd = 2\n",
    "x = 153\n",
    "# to find: percent of bottles will have a volume greater than 153cc\n",
    "norm.sf(x, mean, sd)"
   ]
  },
  {
   "cell_type": "markdown",
   "metadata": {},
   "source": [
    "### Perfume bottles are filled with the average volume of 150cc and the standard deviation of 2cc. What percent of bottles will have a volume between 148cc and 152cc?"
   ]
  },
  {
   "cell_type": "code",
   "execution_count": 8,
   "metadata": {},
   "outputs": [],
   "source": [
    "#to find percent of bottles will have a volume between 148cc and 152cc\n",
    "# comparing 148 & 152 against mean and sd, we observe that 148 is -1 sd and 152 is +1 sd "
   ]
  },
  {
   "cell_type": "code",
   "execution_count": 12,
   "metadata": {},
   "outputs": [
    {
     "data": {
      "text/plain": [
       "0.8413447460685429"
      ]
     },
     "execution_count": 12,
     "metadata": {},
     "output_type": "execute_result"
    }
   ],
   "source": [
    "# area to the right of -1 sd OR number of bottles with volume more than 148cc\n",
    "a1 = norm.sf(mean-sd, mean, sd)\n",
    "a1"
   ]
  },
  {
   "cell_type": "code",
   "execution_count": 13,
   "metadata": {},
   "outputs": [
    {
     "data": {
      "text/plain": [
       "0.15865525393145707"
      ]
     },
     "execution_count": 13,
     "metadata": {},
     "output_type": "execute_result"
    }
   ],
   "source": [
    "# area to the left of +1 sd OR number of bottles with volume less than 152cc\n",
    "a2 = norm.sf(mean+sd, mean, sd)\n",
    "a2"
   ]
  },
  {
   "cell_type": "code",
   "execution_count": 14,
   "metadata": {},
   "outputs": [
    {
     "data": {
      "text/plain": [
       "0.6826894921370859"
      ]
     },
     "execution_count": 14,
     "metadata": {},
     "output_type": "execute_result"
    }
   ],
   "source": [
    "# area betweem -1 sd & +1 sd OR number of bottles with volume more than 148cc and less than 152cc\n",
    "a1-a2"
   ]
  },
  {
   "cell_type": "markdown",
   "metadata": {},
   "source": [
    "### Create a linspace from -3 sd to + 3 sd and plot a line graph for using probability deinsity function PDF."
   ]
  },
  {
   "cell_type": "code",
   "execution_count": 15,
   "metadata": {},
   "outputs": [
    {
     "data": {
      "text/plain": [
       "array([144.        , 144.24489796, 144.48979592, 144.73469388,\n",
       "       144.97959184, 145.2244898 , 145.46938776, 145.71428571,\n",
       "       145.95918367, 146.20408163, 146.44897959, 146.69387755,\n",
       "       146.93877551, 147.18367347, 147.42857143, 147.67346939,\n",
       "       147.91836735, 148.16326531, 148.40816327, 148.65306122,\n",
       "       148.89795918, 149.14285714, 149.3877551 , 149.63265306,\n",
       "       149.87755102, 150.12244898, 150.36734694, 150.6122449 ,\n",
       "       150.85714286, 151.10204082, 151.34693878, 151.59183673,\n",
       "       151.83673469, 152.08163265, 152.32653061, 152.57142857,\n",
       "       152.81632653, 153.06122449, 153.30612245, 153.55102041,\n",
       "       153.79591837, 154.04081633, 154.28571429, 154.53061224,\n",
       "       154.7755102 , 155.02040816, 155.26530612, 155.51020408,\n",
       "       155.75510204, 156.        ])"
      ]
     },
     "execution_count": 15,
     "metadata": {},
     "output_type": "execute_result"
    }
   ],
   "source": [
    "# -3sd is 144 and +3 sd is 156 for mean 150 and sd 2\n",
    "x_axis = np.linspace(mean-3*sd, mean+3*sd)\n",
    "x_axis"
   ]
  },
  {
   "cell_type": "code",
   "execution_count": 17,
   "metadata": {},
   "outputs": [
    {
     "data": {
      "text/plain": [
       "array([0.00221592, 0.00317567, 0.00448337, 0.00623537, 0.00854296,\n",
       "       0.01153035, 0.0153308 , 0.02008054, 0.02591041, 0.0329353 ,\n",
       "       0.04124176, 0.0508746 , 0.06182344, 0.07401055, 0.08728154,\n",
       "       0.10140034, 0.1160499 , 0.13083936, 0.1453183 , 0.15899759,\n",
       "       0.17137563, 0.18196836, 0.19034041, 0.19613469, 0.19909764,\n",
       "       0.19909764, 0.19613469, 0.19034041, 0.18196836, 0.17137563,\n",
       "       0.15899759, 0.1453183 , 0.13083936, 0.1160499 , 0.10140034,\n",
       "       0.08728154, 0.07401055, 0.06182344, 0.0508746 , 0.04124176,\n",
       "       0.0329353 , 0.02591041, 0.02008054, 0.0153308 , 0.01153035,\n",
       "       0.00854296, 0.00623537, 0.00448337, 0.00317567, 0.00221592])"
      ]
     },
     "execution_count": 17,
     "metadata": {},
     "output_type": "execute_result"
    }
   ],
   "source": [
    "y_axis = norm.pdf(x_axis, mean, sd)\n",
    "y_axis"
   ]
  },
  {
   "cell_type": "code",
   "execution_count": 19,
   "metadata": {},
   "outputs": [
    {
     "data": {
      "image/png": "[encoded data removed]",
      "text/plain": [
       "<Figure size 432x288 with 1 Axes>"
      ]
     },
     "metadata": {
      "needs_background": "light"
     },
     "output_type": "display_data"
    }
   ],
   "source": [
    "sns.lineplot(x=x_axis, y=y_axis)\n",
    "plt.show()"
   ]
  },
  {
   "cell_type": "code",
   "execution_count": null,
   "metadata": {},
   "outputs": [],
   "source": []
  }
 ],
 "metadata": {
  "kernelspec": {
   "display_name": "Python 3",
   "language": "python",
   "name": "python3"
  },
  "language_info": {
   "codemirror_mode": {
    "name": "ipython",
    "version": 3
   },
   "file_extension": ".py",
   "mimetype": "text/x-python",
   "name": "python",
   "nbconvert_exporter": "python",
   "pygments_lexer": "ipython3",
   "version": "3.8.5"
  }
 },
 "nbformat": 4,
 "nbformat_minor": 4
}
